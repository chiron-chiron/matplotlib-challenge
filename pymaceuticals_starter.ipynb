{
 "cells": [
  {
   "cell_type": "markdown",
   "metadata": {},
   "source": [
    "## Observations and Insights "
   ]
  },
  {
   "cell_type": "markdown",
   "metadata": {},
   "source": [
    "# Executive Summary"
   ]
  },
  {
   "cell_type": "code",
   "execution_count": 48,
   "metadata": {},
   "outputs": [
    {
     "name": "stdout",
     "output_type": "stream",
     "text": [
      "  Mouse ID Drug Regimen     Sex  Age_months  Weight (g)\n",
      "0     k403     Ramicane    Male          21          16\n",
      "1     s185    Capomulin  Female           3          17\n",
      "2     x401    Capomulin  Female          16          15\n",
      "3     m601    Capomulin    Male          22          17\n",
      "4     g791     Ramicane    Male          11          16\n",
      "  Mouse ID  Timepoint  Tumor Volume (mm3)  Metastatic Sites\n",
      "0     b128          0                45.0                 0\n",
      "1     f932          0                45.0                 0\n",
      "2     g107          0                45.0                 0\n",
      "3     a457          0                45.0                 0\n",
      "4     c819          0                45.0                 0\n"
     ]
    }
   ],
   "source": [
    "# Dependencies and Setup\n",
    "import matplotlib.pyplot as plt\n",
    "import pandas as pd\n",
    "import scipy.stats as st\n",
    "import numpy as np\n",
    "\n",
    "# Study data files\n",
    "mouse_metadata_path = \"data/Mouse_metadata.csv\"\n",
    "study_results_path = \"data/Study_results.csv\"\n",
    "\n",
    "# Read the mouse data and the study results\n",
    "mouse_metadata = pd.read_csv(mouse_metadata_path)\n",
    "study_results = pd.read_csv(study_results_path)\n",
    "\n",
    "print(mouse_metadata.head())\n",
    "print(study_results.head())\n"
   ]
  },
  {
   "cell_type": "code",
   "execution_count": 16,
   "metadata": {},
   "outputs": [
    {
     "name": "stdout",
     "output_type": "stream",
     "text": [
      "          Mouse ID  Tumor Volume (mm3)  Metastatic Sites\n",
      "Timepoint                                               \n",
      "0             b128                45.0                 0\n",
      "0             f932                45.0                 0\n",
      "0             g107                45.0                 0\n",
      "0             a457                45.0                 0\n",
      "0             c819                45.0                 0\n",
      "g989    13\n",
      "b128    10\n",
      "q787    10\n",
      "s337    10\n",
      "q511    10\n",
      "        ..\n",
      "f932     1\n",
      "b447     1\n",
      "u153     1\n",
      "t573     1\n",
      "o848     1\n",
      "Name: Mouse ID, Length: 249, dtype: int64\n",
      "(13, 4)\n",
      "(1880, 4)\n",
      "(1893, 4)\n",
      "(249, 5)\n",
      "(248, 5)\n"
     ]
    }
   ],
   "source": [
    "## Clean data\n",
    "# Check for duplicate mouse data in metadata\n",
    "# print(mouse_metadata[\"Mouse ID\"].describe())        # 240 unique mice\n",
    "\n",
    "# Check study_results - how many unique timepoints?\n",
    "# print(len(study_results[\"Timepoint\"].unique()))     # shows 10 unique timepoints;\n",
    "# print(study_results[\"Timepoint\"].describe())        # shows 1893 records. I.e. not 2490 (10x249) so some mice dropped out during study.\n",
    "# print(study_results[\"Mouse ID\"].describe())\n",
    "\n",
    "## Where a mouse has duplicate data for a given timepoint, eliminate entirety of that mouse data from study_results\n",
    "# Index study_results, by timepoint\n",
    "tp_index_df = study_results.set_index(\"Timepoint\")\n",
    "print(tp_index_df.head())\n",
    "# Count number of values of Mouse ID. If a mouse ID returns > 10, means there is duplicate data of said mouse.\n",
    "print(tp_index_df[\"Mouse ID\"].value_counts())           # mouse ID g989 has duplicate data, delete all data for said mouse ID.\n",
    "\n",
    "# Look at g989 data\n",
    "dirty_mouse = study_results.loc[(study_results[\"Mouse ID\"] == \"g989\")]      # data isn't duplicated, as results aren't duplicated, their different, i.e. 2 results recorded where 1 was required, therefore delete all data.\n",
    "print(dirty_mouse.shape)\n",
    "\n",
    "# Delete all g989 mouse ID data: from 1) study_results; 2) mouse_metadata\n",
    "clean_study_results = study_results.loc[(study_results[\"Mouse ID\"] != \"g989\")]\n",
    "clean_mouse_metadata = mouse_metadata.loc[(mouse_metadata[\"Mouse ID\"] != \"g989\")]\n",
    "\n",
    "# Compare shape of cleaned vs original data\n",
    "print(clean_study_results.shape)\n",
    "print(study_results.shape)          # Shows 13 records were deleted, which is what expected.\n",
    "\n",
    "print(mouse_metadata.shape)\n",
    "print(clean_mouse_metadata.shape)   # Shows 1 mouse was deleted, expected"
   ]
  },
  {
   "cell_type": "code",
   "execution_count": 20,
   "metadata": {},
   "outputs": [
    {
     "data": {
      "text/html": [
       "<div>\n",
       "<style scoped>\n",
       "    .dataframe tbody tr th:only-of-type {\n",
       "        vertical-align: middle;\n",
       "    }\n",
       "\n",
       "    .dataframe tbody tr th {\n",
       "        vertical-align: top;\n",
       "    }\n",
       "\n",
       "    .dataframe thead th {\n",
       "        text-align: right;\n",
       "    }\n",
       "</style>\n",
       "<table border=\"1\" class=\"dataframe\">\n",
       "  <thead>\n",
       "    <tr style=\"text-align: right;\">\n",
       "      <th></th>\n",
       "      <th>Mouse ID</th>\n",
       "      <th>Timepoint</th>\n",
       "      <th>Tumor Volume (mm3)</th>\n",
       "      <th>Metastatic Sites</th>\n",
       "      <th>Drug Regimen</th>\n",
       "      <th>Sex</th>\n",
       "      <th>Age_months</th>\n",
       "      <th>Weight (g)</th>\n",
       "    </tr>\n",
       "  </thead>\n",
       "  <tbody>\n",
       "    <tr>\n",
       "      <th>0</th>\n",
       "      <td>b128</td>\n",
       "      <td>0</td>\n",
       "      <td>45.000000</td>\n",
       "      <td>0</td>\n",
       "      <td>Capomulin</td>\n",
       "      <td>Female</td>\n",
       "      <td>9</td>\n",
       "      <td>22</td>\n",
       "    </tr>\n",
       "    <tr>\n",
       "      <th>1</th>\n",
       "      <td>b128</td>\n",
       "      <td>5</td>\n",
       "      <td>45.651331</td>\n",
       "      <td>0</td>\n",
       "      <td>Capomulin</td>\n",
       "      <td>Female</td>\n",
       "      <td>9</td>\n",
       "      <td>22</td>\n",
       "    </tr>\n",
       "    <tr>\n",
       "      <th>2</th>\n",
       "      <td>b128</td>\n",
       "      <td>10</td>\n",
       "      <td>43.270852</td>\n",
       "      <td>0</td>\n",
       "      <td>Capomulin</td>\n",
       "      <td>Female</td>\n",
       "      <td>9</td>\n",
       "      <td>22</td>\n",
       "    </tr>\n",
       "    <tr>\n",
       "      <th>3</th>\n",
       "      <td>b128</td>\n",
       "      <td>15</td>\n",
       "      <td>43.784893</td>\n",
       "      <td>0</td>\n",
       "      <td>Capomulin</td>\n",
       "      <td>Female</td>\n",
       "      <td>9</td>\n",
       "      <td>22</td>\n",
       "    </tr>\n",
       "    <tr>\n",
       "      <th>4</th>\n",
       "      <td>b128</td>\n",
       "      <td>20</td>\n",
       "      <td>42.731552</td>\n",
       "      <td>0</td>\n",
       "      <td>Capomulin</td>\n",
       "      <td>Female</td>\n",
       "      <td>9</td>\n",
       "      <td>22</td>\n",
       "    </tr>\n",
       "  </tbody>\n",
       "</table>\n",
       "</div>"
      ],
      "text/plain": [
       "  Mouse ID  Timepoint  Tumor Volume (mm3)  Metastatic Sites Drug Regimen  \\\n",
       "0     b128          0           45.000000                 0    Capomulin   \n",
       "1     b128          5           45.651331                 0    Capomulin   \n",
       "2     b128         10           43.270852                 0    Capomulin   \n",
       "3     b128         15           43.784893                 0    Capomulin   \n",
       "4     b128         20           42.731552                 0    Capomulin   \n",
       "\n",
       "      Sex  Age_months  Weight (g)  \n",
       "0  Female           9          22  \n",
       "1  Female           9          22  \n",
       "2  Female           9          22  \n",
       "3  Female           9          22  \n",
       "4  Female           9          22  "
      ]
     },
     "execution_count": 20,
     "metadata": {},
     "output_type": "execute_result"
    }
   ],
   "source": [
    "# Combine the data into a single dataset\n",
    "combined_df = pd.merge(clean_study_results, clean_mouse_metadata, on=\"Mouse ID\")\n",
    "# print(combined_df.head())\n",
    "\n",
    "# print(clean_study_results.columns)\n",
    "# print(clean_mouse_metadata.columns)\n",
    "# print(combined_df.columns)              # All columns from above to files included\n",
    "# Display the data table for preview\n",
    "combined_df.head()"
   ]
  },
  {
   "cell_type": "code",
   "execution_count": 27,
   "metadata": {},
   "outputs": [
    {
     "name": "stdout",
     "output_type": "stream",
     "text": [
      "count     1880\n",
      "unique     248\n",
      "top       b128\n",
      "freq        10\n",
      "Name: Mouse ID, dtype: object\n",
      "count      249\n",
      "unique     249\n",
      "top       k403\n",
      "freq         1\n",
      "Name: Mouse ID, dtype: object\n",
      "count     1893\n",
      "unique     249\n",
      "top       g989\n",
      "freq        13\n",
      "Name: Mouse ID, dtype: object\n"
     ]
    }
   ],
   "source": [
    "# Checking the number of mice.\n",
    "print(combined_df[\"Mouse ID\"].describe())\n",
    "print(mouse_metadata[\"Mouse ID\"].describe())\n",
    "print(study_results[\"Mouse ID\"].describe())\n",
    "\n",
    "# New cleaned combined data, has 248 unique mice (i.e. Mouse IDs), shows 1 mouse was dropped (g989)."
   ]
  },
  {
   "cell_type": "code",
   "execution_count": 41,
   "metadata": {},
   "outputs": [
    {
     "name": "stdout",
     "output_type": "stream",
     "text": [
      "          Mouse ID  Tumor Volume (mm3)  Metastatic Sites\n",
      "Timepoint                                               \n",
      "0             b128                45.0                 0\n",
      "0             f932                45.0                 0\n",
      "0             g107                45.0                 0\n",
      "0             a457                45.0                 0\n",
      "0             c819                45.0                 0\n",
      "g989    13\n",
      "b128    10\n",
      "q787    10\n",
      "s337    10\n",
      "q511    10\n",
      "        ..\n",
      "f932     1\n",
      "b447     1\n",
      "u153     1\n",
      "t573     1\n",
      "o848     1\n",
      "Name: Mouse ID, Length: 249, dtype: int64\n"
     ]
    }
   ],
   "source": [
    "# Getting the duplicate mice by ID number that shows up for Mouse ID and Timepoint. \n",
    "## Where a mouse has duplicate data for a given timepoint, eliminate entirety of that mouse data from study_results\n",
    "# Index study_results, by timepoint\n",
    "tp_index_df = study_results.set_index(\"Timepoint\")\n",
    "print(tp_index_df.head())\n",
    "# Count number of values of Mouse ID. If a mouse ID returns > 10, means there is duplicate data of said mouse.\n",
    "print(tp_index_df[\"Mouse ID\"].value_counts())           # mouse ID g989 has duplicate data, delete all data for said mouse ID.\n"
   ]
  },
  {
   "cell_type": "code",
   "execution_count": 37,
   "metadata": {},
   "outputs": [
    {
     "name": "stdout",
     "output_type": "stream",
     "text": [
      "     Mouse ID  Timepoint  Tumor Volume (mm3)  Metastatic Sites\n",
      "107      g989          0           45.000000                 0\n",
      "137      g989          0           45.000000                 0\n",
      "329      g989          5           48.786801                 0\n",
      "360      g989          5           47.570392                 0\n",
      "620      g989         10           51.745156                 0\n",
      "681      g989         10           49.880528                 0\n",
      "815      g989         15           51.325852                 1\n",
      "869      g989         15           53.442020                 0\n",
      "950      g989         20           55.326122                 1\n",
      "1111     g989         20           54.657650                 1\n",
      "1195     g989         25           56.045564                 1\n",
      "1380     g989         30           59.082294                 1\n",
      "1592     g989         35           62.570880                 2\n"
     ]
    }
   ],
   "source": [
    "# Optional: Get all the data for the duplicate mouse ID. \n",
    "\n",
    "dirty_mouse = study_results.loc[(study_results[\"Mouse ID\"] == \"g989\")]      # data isn't duplicated, as results aren't duplicated, their different, i.e. 2 results recorded where 1 was required, therefore delete all data.\n",
    "print(dirty_mouse)"
   ]
  },
  {
   "cell_type": "code",
   "execution_count": 5,
   "metadata": {},
   "outputs": [],
   "source": [
    "# Create a clean DataFrame by dropping the duplicate mouse by its ID.\n",
    "# Done, refer above and here:   combined_df = pd.merge(clean_study_results, clean_mouse_metadata, on=\"Mouse ID\")"
   ]
  },
  {
   "cell_type": "code",
   "execution_count": 40,
   "metadata": {},
   "outputs": [
    {
     "name": "stdout",
     "output_type": "stream",
     "text": [
      "count     1880\n",
      "unique     248\n",
      "top       b128\n",
      "freq        10\n",
      "Name: Mouse ID, dtype: object\n"
     ]
    }
   ],
   "source": [
    "# Checking the number of mice in the clean DataFrame.\n",
    "print(combined_df[\"Mouse ID\"].describe())"
   ]
  },
  {
   "cell_type": "markdown",
   "metadata": {},
   "source": [
    "## Summary Statistics"
   ]
  },
  {
   "cell_type": "code",
   "execution_count": 84,
   "metadata": {},
   "outputs": [
    {
     "data": {
      "text/html": [
       "<div>\n",
       "<style scoped>\n",
       "    .dataframe tbody tr th:only-of-type {\n",
       "        vertical-align: middle;\n",
       "    }\n",
       "\n",
       "    .dataframe tbody tr th {\n",
       "        vertical-align: top;\n",
       "    }\n",
       "\n",
       "    .dataframe thead th {\n",
       "        text-align: right;\n",
       "    }\n",
       "</style>\n",
       "<table border=\"1\" class=\"dataframe\">\n",
       "  <thead>\n",
       "    <tr style=\"text-align: right;\">\n",
       "      <th></th>\n",
       "      <th>Mean</th>\n",
       "      <th>Median</th>\n",
       "      <th>Variance</th>\n",
       "      <th>Standard Deviation</th>\n",
       "      <th>SEM</th>\n",
       "    </tr>\n",
       "    <tr>\n",
       "      <th>Drug Regimen</th>\n",
       "      <th></th>\n",
       "      <th></th>\n",
       "      <th></th>\n",
       "      <th></th>\n",
       "      <th></th>\n",
       "    </tr>\n",
       "  </thead>\n",
       "  <tbody>\n",
       "    <tr>\n",
       "      <th>Capomulin</th>\n",
       "      <td>40.675741</td>\n",
       "      <td>41.557809</td>\n",
       "      <td>24.839296</td>\n",
       "      <td>4.983904</td>\n",
       "      <td>0.329346</td>\n",
       "    </tr>\n",
       "    <tr>\n",
       "      <th>Ketapril</th>\n",
       "      <td>55.235638</td>\n",
       "      <td>53.698743</td>\n",
       "      <td>68.188930</td>\n",
       "      <td>8.257659</td>\n",
       "      <td>0.603860</td>\n",
       "    </tr>\n",
       "    <tr>\n",
       "      <th>Naftisol</th>\n",
       "      <td>54.331565</td>\n",
       "      <td>52.509285</td>\n",
       "      <td>65.817708</td>\n",
       "      <td>8.112811</td>\n",
       "      <td>0.596466</td>\n",
       "    </tr>\n",
       "    <tr>\n",
       "      <th>Infubinol</th>\n",
       "      <td>52.884795</td>\n",
       "      <td>51.820584</td>\n",
       "      <td>42.886388</td>\n",
       "      <td>6.548770</td>\n",
       "      <td>0.492236</td>\n",
       "    </tr>\n",
       "    <tr>\n",
       "      <th>Stelasyn</th>\n",
       "      <td>54.233149</td>\n",
       "      <td>52.431737</td>\n",
       "      <td>59.122106</td>\n",
       "      <td>7.689090</td>\n",
       "      <td>0.573111</td>\n",
       "    </tr>\n",
       "    <tr>\n",
       "      <th>Ramicane</th>\n",
       "      <td>40.216745</td>\n",
       "      <td>40.673236</td>\n",
       "      <td>23.383692</td>\n",
       "      <td>4.835669</td>\n",
       "      <td>0.320955</td>\n",
       "    </tr>\n",
       "    <tr>\n",
       "      <th>Zoniferol</th>\n",
       "      <td>53.236507</td>\n",
       "      <td>51.818479</td>\n",
       "      <td>48.266689</td>\n",
       "      <td>6.947423</td>\n",
       "      <td>0.516398</td>\n",
       "    </tr>\n",
       "    <tr>\n",
       "      <th>Propriva</th>\n",
       "      <td>52.320930</td>\n",
       "      <td>50.446266</td>\n",
       "      <td>43.555716</td>\n",
       "      <td>6.599675</td>\n",
       "      <td>0.544332</td>\n",
       "    </tr>\n",
       "    <tr>\n",
       "      <th>Placebo</th>\n",
       "      <td>54.033581</td>\n",
       "      <td>52.288934</td>\n",
       "      <td>60.830138</td>\n",
       "      <td>7.799368</td>\n",
       "      <td>0.581331</td>\n",
       "    </tr>\n",
       "    <tr>\n",
       "      <th>Ceftamin</th>\n",
       "      <td>52.591172</td>\n",
       "      <td>51.776157</td>\n",
       "      <td>39.069446</td>\n",
       "      <td>6.250556</td>\n",
       "      <td>0.469821</td>\n",
       "    </tr>\n",
       "  </tbody>\n",
       "</table>\n",
       "</div>"
      ],
      "text/plain": [
       "                   Mean     Median   Variance  Standard Deviation       SEM\n",
       "Drug Regimen                                                               \n",
       "Capomulin     40.675741  41.557809  24.839296            4.983904  0.329346\n",
       "Ketapril      55.235638  53.698743  68.188930            8.257659  0.603860\n",
       "Naftisol      54.331565  52.509285  65.817708            8.112811  0.596466\n",
       "Infubinol     52.884795  51.820584  42.886388            6.548770  0.492236\n",
       "Stelasyn      54.233149  52.431737  59.122106            7.689090  0.573111\n",
       "Ramicane      40.216745  40.673236  23.383692            4.835669  0.320955\n",
       "Zoniferol     53.236507  51.818479  48.266689            6.947423  0.516398\n",
       "Propriva      52.320930  50.446266  43.555716            6.599675  0.544332\n",
       "Placebo       54.033581  52.288934  60.830138            7.799368  0.581331\n",
       "Ceftamin      52.591172  51.776157  39.069446            6.250556  0.469821"
      ]
     },
     "execution_count": 84,
     "metadata": {},
     "output_type": "execute_result"
    }
   ],
   "source": [
    "## Generate a summary statistics table of mean, median, variance, standard deviation, and SEM of the tumor volume for each regimen\n",
    "\n",
    "# Identify all the regimens:\n",
    "# combined_df[\"Drug Regimen\"].unique()\n",
    "# Returns the following regimens:   (['Capomulin', 'Ketapril', 'Naftisol', 'Infubinol', 'Stelasyn',\n",
    "                                    # 'Ramicane', 'Zoniferol', 'Propriva', 'Placebo', 'Ceftamin'\n",
    "\n",
    "\n",
    "# Create new df's by filtering each regimen from clean df, creating a df for each regimen\n",
    "Capomulin_df = combined_df.loc[(combined_df[\"Drug Regimen\"] == \"Capomulin\")]\n",
    "tum_Capomulin_df = Capomulin_df[\"Tumor Volume (mm3)\"]\n",
    "\n",
    "Ketapril_df = combined_df.loc[(combined_df[\"Drug Regimen\"] == \"Ketapril\")]\n",
    "tum_Ketapril_df = Ketapril_df[\"Tumor Volume (mm3)\"]\n",
    "\n",
    "Naftisol_df = combined_df.loc[(combined_df[\"Drug Regimen\"] == \"Naftisol\")]\n",
    "tum_Naftisol_df = Naftisol_df[\"Tumor Volume (mm3)\"]\n",
    "\n",
    "Infubinol_df = combined_df.loc[(combined_df[\"Drug Regimen\"] == \"Infubinol\")]\n",
    "tum_Infubinol_df = Infubinol_df[\"Tumor Volume (mm3)\"]\n",
    "\n",
    "Stelasyn_df = combined_df.loc[(combined_df[\"Drug Regimen\"] == \"Stelasyn\")]\n",
    "tum_Stelasyn_df = Stelasyn_df[\"Tumor Volume (mm3)\"]\n",
    "\n",
    "Ramicane_df = combined_df.loc[(combined_df[\"Drug Regimen\"] == \"Ramicane\")]\n",
    "tum_Ramicane_df = Ramicane_df[\"Tumor Volume (mm3)\"]\n",
    "\n",
    "Zoniferol_df = combined_df.loc[(combined_df[\"Drug Regimen\"] == \"Zoniferol\")]\n",
    "tum_Zoniferol_df = Zoniferol_df[\"Tumor Volume (mm3)\"]\n",
    "\n",
    "Propriva_df = combined_df.loc[(combined_df[\"Drug Regimen\"] == \"Propriva\")]\n",
    "tum_Propriva_df = Propriva_df[\"Tumor Volume (mm3)\"]\n",
    "\n",
    "Placebo_df = combined_df.loc[(combined_df[\"Drug Regimen\"] == \"Placebo\")]\n",
    "tum_Placebo_df = Placebo_df[\"Tumor Volume (mm3)\"]\n",
    "\n",
    "Ceftamin_df = combined_df.loc[(combined_df[\"Drug Regimen\"] == \"Ceftamin\")]\n",
    "tum_Ceftamin_df = Ceftamin_df[\"Tumor Volume (mm3)\"]\n",
    "\n",
    "\n",
    "# Calc, mean, median, variance, stdev for each regimen\n",
    "mean_Capo = np.mean(tum_Capomulin_df)\n",
    "median_Capo = np.median(tum_Capomulin_df)\n",
    "var_Capo = np.var(tum_Capomulin_df,ddof=0)\n",
    "sd_Capo = np.std(tum_Capomulin_df,ddof=0)\n",
    "sem_Capo = np.std(tum_Capomulin_df,ddof=1) / np.sqrt(np.size(tum_Capomulin_df))\n",
    "\n",
    "mean_Keta = np.mean(tum_Ketapril_df)\n",
    "median_Keta = np.median(tum_Ketapril_df)\n",
    "var_Keta = np.var(tum_Ketapril_df,ddof=0)\n",
    "sd_Keta = np.std(tum_Ketapril_df,ddof=0)\n",
    "sem_Keta = np.std(tum_Ketapril_df,ddof=1) / np.sqrt(np.size(tum_Ketapril_df))\n",
    "\n",
    "mean_Naft = np.mean(tum_Naftisol_df)\n",
    "median_Naft = np.median(tum_Naftisol_df)\n",
    "var_Naft = np.var(tum_Naftisol_df,ddof=0)\n",
    "sd_Naft = np.std(tum_Naftisol_df,ddof=0)\n",
    "sem_Naft = np.std(tum_Naftisol_df,ddof=1) / np.sqrt(np.size(tum_Naftisol_df))\n",
    "\n",
    "mean_Infu = np.mean(tum_Infubinol_df)\n",
    "median_Infu = np.median(tum_Infubinol_df)\n",
    "var_Infu = np.var(tum_Infubinol_df,ddof=0)\n",
    "sd_Infu = np.std(tum_Infubinol_df,ddof=0)\n",
    "sem_Infu = np.std(tum_Infubinol_df,ddof=1) / np.sqrt(np.size(tum_Infubinol_df))\n",
    "\n",
    "mean_Stel = np.mean(tum_Stelasyn_df)\n",
    "median_Stel = np.median(tum_Stelasyn_df)\n",
    "var_Stel = np.var(tum_Stelasyn_df,ddof=0)\n",
    "sd_Stel = np.std(tum_Stelasyn_df,ddof=0)\n",
    "sem_Stel = np.std(tum_Stelasyn_df,ddof=1) / np.sqrt(np.size(tum_Stelasyn_df))\n",
    "\n",
    "mean_Rami = np.mean(tum_Ramicane_df)\n",
    "median_Rami = np.median(tum_Ramicane_df)\n",
    "var_Rami = np.var(tum_Ramicane_df,ddof=0)\n",
    "sd_Rami = np.std(tum_Ramicane_df,ddof=0)\n",
    "sem_Rami = np.std(tum_Ramicane_df,ddof=1) / np.sqrt(np.size(tum_Ramicane_df))\n",
    "\n",
    "mean_Zoni = np.mean(tum_Zoniferol_df)\n",
    "median_Zoni = np.median(tum_Zoniferol_df)\n",
    "var_Zoni = np.var(tum_Zoniferol_df,ddof=0)\n",
    "sd_Zoni = np.std(tum_Zoniferol_df,ddof=0)\n",
    "sem_Zoni = np.std(tum_Zoniferol_df,ddof=1) / np.sqrt(np.size(tum_Zoniferol_df))\n",
    "\n",
    "mean_Prop = np.mean(tum_Propriva_df)\n",
    "median_Prop = np.median(tum_Propriva_df)\n",
    "var_Prop = np.var(tum_Propriva_df,ddof=0)\n",
    "sd_Prop = np.std(tum_Propriva_df,ddof=0)\n",
    "sem_Prop = np.std(tum_Propriva_df,ddof=1) / np.sqrt(np.size(tum_Propriva_df))\n",
    "\n",
    "mean_Plac = np.mean(tum_Placebo_df)\n",
    "median_Plac = np.median(tum_Placebo_df)\n",
    "var_Plac = np.var(tum_Placebo_df,ddof=0)\n",
    "sd_Plac = np.std(tum_Placebo_df,ddof=0)\n",
    "sem_Plac = np.std(tum_Placebo_df,ddof=1) / np.sqrt(np.size(tum_Placebo_df))\n",
    "\n",
    "mean_Ceft = np.mean(tum_Ceftamin_df)\n",
    "median_Ceft = np.median(tum_Ceftamin_df)\n",
    "var_Ceft = np.var(tum_Ceftamin_df,ddof=0)\n",
    "sd_Ceft = np.std(tum_Ceftamin_df,ddof=0)\n",
    "sem_Ceft = np.std(tum_Ceftamin_df,ddof=1) / np.sqrt(np.size(tum_Ceftamin_df))\n",
    "\n",
    "# This method is the most straighforward, creating multiple series and putting them all together at the end.\n",
    "# Create new dataframe for summary of stats\n",
    "\n",
    "summarystats_df = pd.DataFrame({\n",
    "    \"Drug Regimen\": ['Capomulin', 'Ketapril', 'Naftisol', 'Infubinol', 'Stelasyn', 'Ramicane', 'Zoniferol', 'Propriva', 'Placebo', 'Ceftamin'],\n",
    "    \"Mean\": [mean_Capo, mean_Keta, mean_Naft, mean_Infu, mean_Stel, mean_Rami, mean_Zoni, mean_Prop, mean_Plac, mean_Ceft],\n",
    "    \"Median\": [median_Capo, median_Keta, median_Naft, median_Infu, median_Stel, median_Rami, median_Zoni, median_Prop, median_Plac, median_Ceft],\n",
    "    \"Variance\": [var_Capo, var_Keta, var_Naft, var_Infu, var_Stel, var_Rami, var_Zoni, var_Prop, var_Plac, var_Ceft],\n",
    "    \"Standard Deviation\": [sd_Capo, sd_Keta, sd_Naft, sd_Infu, sd_Stel, sd_Rami, sd_Zoni, sd_Prop, sd_Plac, sd_Ceft],\n",
    "    \"SEM\":[sem_Capo, sem_Keta, sem_Naft, sem_Infu, sem_Stel, sem_Rami, sem_Zoni, sem_Prop, sem_Plac, sem_Ceft]\n",
    "})\n",
    "summarystats_df.set_index(\"Drug Regimen\")\n"
   ]
  },
  {
   "cell_type": "code",
   "execution_count": 83,
   "metadata": {},
   "outputs": [
    {
     "data": {
      "text/html": [
       "<div>\n",
       "<style scoped>\n",
       "    .dataframe tbody tr th:only-of-type {\n",
       "        vertical-align: middle;\n",
       "    }\n",
       "\n",
       "    .dataframe tbody tr th {\n",
       "        vertical-align: top;\n",
       "    }\n",
       "\n",
       "    .dataframe thead th {\n",
       "        text-align: right;\n",
       "    }\n",
       "</style>\n",
       "<table border=\"1\" class=\"dataframe\">\n",
       "  <thead>\n",
       "    <tr style=\"text-align: right;\">\n",
       "      <th></th>\n",
       "      <th>Mean</th>\n",
       "      <th>Median</th>\n",
       "      <th>Variance</th>\n",
       "      <th>Standard Deviation</th>\n",
       "      <th>SEM</th>\n",
       "    </tr>\n",
       "    <tr>\n",
       "      <th>Drug Regimen</th>\n",
       "      <th></th>\n",
       "      <th></th>\n",
       "      <th></th>\n",
       "      <th></th>\n",
       "      <th></th>\n",
       "    </tr>\n",
       "  </thead>\n",
       "  <tbody>\n",
       "    <tr>\n",
       "      <th>Capomulin</th>\n",
       "      <td>40.675741</td>\n",
       "      <td>41.557809</td>\n",
       "      <td>24.947764</td>\n",
       "      <td>4.994774</td>\n",
       "      <td>0.329346</td>\n",
       "    </tr>\n",
       "    <tr>\n",
       "      <th>Ceftamin</th>\n",
       "      <td>52.591172</td>\n",
       "      <td>51.776157</td>\n",
       "      <td>39.290177</td>\n",
       "      <td>6.268188</td>\n",
       "      <td>0.469821</td>\n",
       "    </tr>\n",
       "    <tr>\n",
       "      <th>Infubinol</th>\n",
       "      <td>52.884795</td>\n",
       "      <td>51.820584</td>\n",
       "      <td>43.128684</td>\n",
       "      <td>6.567243</td>\n",
       "      <td>0.492236</td>\n",
       "    </tr>\n",
       "    <tr>\n",
       "      <th>Ketapril</th>\n",
       "      <td>55.235638</td>\n",
       "      <td>53.698743</td>\n",
       "      <td>68.553577</td>\n",
       "      <td>8.279709</td>\n",
       "      <td>0.603860</td>\n",
       "    </tr>\n",
       "    <tr>\n",
       "      <th>Naftisol</th>\n",
       "      <td>54.331565</td>\n",
       "      <td>52.509285</td>\n",
       "      <td>66.173479</td>\n",
       "      <td>8.134708</td>\n",
       "      <td>0.596466</td>\n",
       "    </tr>\n",
       "    <tr>\n",
       "      <th>Placebo</th>\n",
       "      <td>54.033581</td>\n",
       "      <td>52.288934</td>\n",
       "      <td>61.168083</td>\n",
       "      <td>7.821003</td>\n",
       "      <td>0.581331</td>\n",
       "    </tr>\n",
       "    <tr>\n",
       "      <th>Propriva</th>\n",
       "      <td>52.320930</td>\n",
       "      <td>50.446266</td>\n",
       "      <td>43.852013</td>\n",
       "      <td>6.622085</td>\n",
       "      <td>0.544332</td>\n",
       "    </tr>\n",
       "    <tr>\n",
       "      <th>Ramicane</th>\n",
       "      <td>40.216745</td>\n",
       "      <td>40.673236</td>\n",
       "      <td>23.486704</td>\n",
       "      <td>4.846308</td>\n",
       "      <td>0.320955</td>\n",
       "    </tr>\n",
       "    <tr>\n",
       "      <th>Stelasyn</th>\n",
       "      <td>54.233149</td>\n",
       "      <td>52.431737</td>\n",
       "      <td>59.450562</td>\n",
       "      <td>7.710419</td>\n",
       "      <td>0.573111</td>\n",
       "    </tr>\n",
       "    <tr>\n",
       "      <th>Zoniferol</th>\n",
       "      <td>53.236507</td>\n",
       "      <td>51.818479</td>\n",
       "      <td>48.533355</td>\n",
       "      <td>6.966589</td>\n",
       "      <td>0.516398</td>\n",
       "    </tr>\n",
       "  </tbody>\n",
       "</table>\n",
       "</div>"
      ],
      "text/plain": [
       "                   Mean     Median   Variance  Standard Deviation       SEM\n",
       "Drug Regimen                                                               \n",
       "Capomulin     40.675741  41.557809  24.947764            4.994774  0.329346\n",
       "Ceftamin      52.591172  51.776157  39.290177            6.268188  0.469821\n",
       "Infubinol     52.884795  51.820584  43.128684            6.567243  0.492236\n",
       "Ketapril      55.235638  53.698743  68.553577            8.279709  0.603860\n",
       "Naftisol      54.331565  52.509285  66.173479            8.134708  0.596466\n",
       "Placebo       54.033581  52.288934  61.168083            7.821003  0.581331\n",
       "Propriva      52.320930  50.446266  43.852013            6.622085  0.544332\n",
       "Ramicane      40.216745  40.673236  23.486704            4.846308  0.320955\n",
       "Stelasyn      54.233149  52.431737  59.450562            7.710419  0.573111\n",
       "Zoniferol     53.236507  51.818479  48.533355            6.966589  0.516398"
      ]
     },
     "execution_count": 83,
     "metadata": {},
     "output_type": "execute_result"
    }
   ],
   "source": [
    "# Generate a summary statistics table of mean, median, variance, standard deviation, and SEM of the tumor volume for each regimen\n",
    "\n",
    "# This method produces everything in a single groupby function\n",
    "\n",
    "# Set Drug Regimen as index\n",
    "dr_combined_df = combined_df.set_index(\"Drug Regimen\")\n",
    "\n",
    "# Group by Drug Regimen\n",
    "grp_dr_combined = dr_combined_df.groupby(\"Drug Regimen\")\n",
    "\n",
    "# Calc mean, median, var, std, sem of Tumor Volume\n",
    "tum_mean_df = grp_dr_combined[\"Tumor Volume (mm3)\"].mean()\n",
    "tum_median_df = grp_dr_combined[\"Tumor Volume (mm3)\"].median()\n",
    "tum_var_df = grp_dr_combined[\"Tumor Volume (mm3)\"].var()\n",
    "tum_std_df = grp_dr_combined[\"Tumor Volume (mm3)\"].std()\n",
    "tum_sem_df = grp_dr_combined[\"Tumor Volume (mm3)\"].sem()\n",
    "\n",
    "# Merge calcs into new DF\n",
    "ss_df = pd.merge(tum_mean_df, tum_median_df, on=\"Drug Regimen\", suffixes=(\"_mean\", \"_med\"))\n",
    "ss_df2 = pd.merge(ss_df, tum_var_df, on=\"Drug Regimen\")\n",
    "ss_df3 = pd.merge(ss_df2, tum_std_df, on=\"Drug Regimen\", suffixes=(\"_var\", \"_std\"))\n",
    "ss_df4 = pd.merge(ss_df3, tum_sem_df, on=\"Drug Regimen\")\n",
    "\n",
    "# Rename columns\n",
    "final_ss_bygroupby_df = ss_df4.rename(columns={\"Tumor Volume (mm3)_mean\": \"Mean\", \"Tumor Volume (mm3)_med\": \"Median\",\n",
    "                                               \"Tumor Volume (mm3)_var\": \"Variance\",\n",
    "                                               \"Tumor Volume (mm3)_std\": \"Standard Deviation\",\n",
    "                                               \"Tumor Volume (mm3)\": \"SEM\"})\n",
    "\n",
    "# Display summary stats, based on method of groupby and calcing using pandas, not numpy calcs\n",
    "final_ss_bygroupby_df\n"
   ]
  },
  {
   "cell_type": "markdown",
   "metadata": {},
   "source": [
    "## Bar and Pie Charts"
   ]
  },
  {
   "cell_type": "code",
   "execution_count": 129,
   "metadata": {},
   "outputs": [
    {
     "name": "stdout",
     "output_type": "stream",
     "text": [
      "Drug Regimen\n",
      "Capomulin    230\n",
      "Ceftamin     178\n",
      "Infubinol    178\n",
      "Ketapril     188\n",
      "Naftisol     186\n",
      "Placebo      181\n",
      "Propriva     148\n",
      "Ramicane     228\n",
      "Stelasyn     181\n",
      "Zoniferol    182\n",
      "Name: Mouse ID, dtype: int64\n"
     ]
    },
    {
     "data": {
      "image/png": "[encoded data removed]",
      "text/plain": [
       "<Figure size 432x288 with 1 Axes>"
      ]
     },
     "metadata": {
      "needs_background": "light"
     },
     "output_type": "display_data"
    },
    {
     "data": {
      "text/plain": [
       "<Figure size 1440x720 with 0 Axes>"
      ]
     },
     "metadata": {},
     "output_type": "display_data"
    }
   ],
   "source": [
    "# Generate a bar plot showing the total number of mice for each treatment throughout the course of the study using pandas. \n",
    "\n",
    "# Calc # of mice p/regimen, by groupby, then count, then select mouce ID column\n",
    "# Create new variable for Groupby \"Drug Regimen\", to prevent code break, and to manipulate here\n",
    "grp_dr_combined2 = dr_combined_df.groupby(\"Drug Regimen\")\n",
    "grp_dr_mouse = grp_dr_combined2.count()\n",
    "print(grp_dr_mouse[\"Mouse ID\"])\n",
    "\n",
    "\n",
    "# Set x and y axis data\n",
    "mice = grp_dr_mouse[\"Mouse ID\"]\n",
    "x_axis = np.arange(len(combined_df[\"Drug Regimen\"].unique()))\n",
    "\n",
    "# Plot bar chart\n",
    "plt.bar(x_axis, mice, align=\"center\")\n",
    "\n",
    "# Tick locations, designated what ticks are (ie. drugs)\n",
    "drugs = grp_dr_mouse.index.to_list()\n",
    "tick_locations = [value for value in x_axis]\n",
    "plt.xticks(tick_locations, drugs)\n",
    "\n",
    "# Set limits\n",
    "plt.ylim(0,250)\n",
    "\n",
    "# Format chart\n",
    "plt.title(\"No. of mice per drug regimen throughout course of study\")\n",
    "plt.xlabel(\"Drug Regimen\")\n",
    "plt.ylabel(\"No. mice per regimen\")\n",
    "plt.figure(figsize=(20,10))\n",
    "# plt.tight_layout()"
   ]
  },
  {
   "cell_type": "code",
   "execution_count": 139,
   "metadata": {},
   "outputs": [
    {
     "data": {
      "text/plain": [
       "(0.0, 250.0)"
      ]
     },
     "execution_count": 139,
     "metadata": {},
     "output_type": "execute_result"
    },
    {
     "data": {
      "image/png": "[encoded data removed]",
      "text/plain": [
       "<Figure size 360x216 with 1 Axes>"
      ]
     },
     "metadata": {
      "needs_background": "light"
     },
     "output_type": "display_data"
    }
   ],
   "source": [
    "# Generate a bar plot showing the total number of mice for each treatment throughout the course of the study using pyplot.\n",
    "\n",
    "# Set x-axis\n",
    "# x_axis2 = np.arange(len(combined_df[\"Drug Regimen\"].unique()))\n",
    "\n",
    "reg_and_mousecount = grp_dr_mouse[\"Mouse ID\"]\n",
    "\n",
    "reg_and_mousecount.plot(kind=\"bar\", figsize=(5,3))\n",
    "plt.title(\"No. of mice per drug regimen throughout course of study\")\n",
    "plt.xlabel(\"Drug Regimen\")\n",
    "plt.ylabel(\"No. mice per regimen\")\n",
    "plt.ylim(0,250)\n"
   ]
  },
  {
   "cell_type": "code",
   "execution_count": 11,
   "metadata": {},
   "outputs": [],
   "source": [
    "# Generate a pie plot showing the distribution of female versus male mice using pandas\n",
    "\n"
   ]
  },
  {
   "cell_type": "code",
   "execution_count": 12,
   "metadata": {},
   "outputs": [],
   "source": [
    "# Generate a pie plot showing the distribution of female versus male mice using pyplot\n",
    "\n"
   ]
  },
  {
   "cell_type": "markdown",
   "metadata": {},
   "source": [
    "## Quartiles, Outliers and Boxplots"
   ]
  },
  {
   "cell_type": "code",
   "execution_count": 13,
   "metadata": {},
   "outputs": [],
   "source": [
    "# Calculate the final tumor volume of each mouse across four of the treatment regimens:  \n",
    "# Capomulin, Ramicane, Infubinol, and Ceftamin\n",
    "\n",
    "# Start by getting the last (greatest) timepoint for each mouse\n",
    "\n",
    "\n",
    "# Merge this group df with the original dataframe to get the tumor volume at the last timepoint\n"
   ]
  },
  {
   "cell_type": "code",
   "execution_count": 14,
   "metadata": {},
   "outputs": [],
   "source": [
    "# Put treatments into a list for for loop (and later for plot labels)\n",
    "\n",
    "\n",
    "# Create empty list to fill with tumor vol data (for plotting)\n",
    "\n",
    "\n",
    "# Calculate the IQR and quantitatively determine if there are any potential outliers. \n",
    "\n",
    "    \n",
    "    # Locate the rows which contain mice on each drug and get the tumor volumes\n",
    "    \n",
    "    \n",
    "    # add subset \n",
    "    \n",
    "    \n",
    "    # Determine outliers using upper and lower bounds\n",
    "    "
   ]
  },
  {
   "cell_type": "code",
   "execution_count": 15,
   "metadata": {},
   "outputs": [],
   "source": [
    "# Generate a box plot of the final tumor volume of each mouse across four regimens of interest\n"
   ]
  },
  {
   "cell_type": "markdown",
   "metadata": {},
   "source": [
    "## Line and Scatter Plots"
   ]
  },
  {
   "cell_type": "code",
   "execution_count": 16,
   "metadata": {},
   "outputs": [],
   "source": [
    "# Generate a line plot of time point versus tumor volume for a mouse treated with Capomulin\n"
   ]
  },
  {
   "cell_type": "code",
   "execution_count": 17,
   "metadata": {},
   "outputs": [],
   "source": [
    "# Generate a scatter plot of mouse weight versus average tumor volume for the Capomulin regimen\n"
   ]
  },
  {
   "cell_type": "markdown",
   "metadata": {},
   "source": [
    "## Correlation and Regression"
   ]
  },
  {
   "cell_type": "code",
   "execution_count": 18,
   "metadata": {},
   "outputs": [],
   "source": [
    "# Calculate the correlation coefficient and linear regression model \n",
    "# for mouse weight and average tumor volume for the Capomulin regimen\n"
   ]
  },
  {
   "cell_type": "code",
   "execution_count": null,
   "metadata": {},
   "outputs": [],
   "source": []
  }
 ],
 "metadata": {
  "anaconda-cloud": {},
  "interpreter": {
   "hash": "c1045dce47e268ff1365c3f603defeb0aa850c229e636842f21fdc3e170438c8"
  },
  "kernelspec": {
   "display_name": "Python 3.7.13 ('bootcamp')",
   "language": "python",
   "name": "python3"
  },
  "language_info": {
   "codemirror_mode": {
    "name": "ipython",
    "version": 3
   },
   "file_extension": ".py",
   "mimetype": "text/x-python",
   "name": "python",
   "nbconvert_exporter": "python",
   "pygments_lexer": "ipython3",
   "version": "3.7.13"
  }
 },
 "nbformat": 4,
 "nbformat_minor": 2
}
